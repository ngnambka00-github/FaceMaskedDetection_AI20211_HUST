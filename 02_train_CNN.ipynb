{
 "cells": [
  {
   "cell_type": "markdown",
   "id": "a8da5c51-07d6-47ad-b1ff-826301496bc3",
   "metadata": {},
   "source": [
    "## Train Deep Learning Model"
   ]
  },
  {
   "cell_type": "markdown",
   "id": "796a216c-078d-4906-a218-db7d51edcaef",
   "metadata": {},
   "source": [
    "### Step-1: load the preprocessing data"
   ]
  },
  {
   "cell_type": "code",
   "execution_count": 1,
   "id": "f2165b52-bc85-4361-81ac-7623641f661d",
   "metadata": {},
   "outputs": [],
   "source": [
    "import os\n",
    "import numpy as np\n",
    "import cv2\n",
    "import gc"
   ]
  },
  {
   "cell_type": "code",
   "execution_count": 2,
   "id": "f8935c20-c15e-4444-8c9b-40d7af35cdaa",
   "metadata": {},
   "outputs": [],
   "source": [
    "# load the preprocessing data\n",
    "data = np.load(\"./data_preprocessing/data_preprocesiing.npz\")"
   ]
  },
  {
   "cell_type": "code",
   "execution_count": 3,
   "id": "6bf306ff-8cf2-4f71-b111-781adb36bcdc",
   "metadata": {},
   "outputs": [
    {
     "name": "stdout",
     "output_type": "stream",
     "text": [
      "(13942, 100, 100, 3) (13942, 4)\n"
     ]
    }
   ],
   "source": [
    "X = data['arr_0']\n",
    "y = data['arr_1']\n",
    "\n",
    "print(X.shape, y.shape)"
   ]
  },
  {
   "cell_type": "markdown",
   "id": "60e1ba9a-04a5-47d4-ad95-6a60bfe7c7b8",
   "metadata": {},
   "source": [
    "### Split the data into Train and Test sets"
   ]
  },
  {
   "cell_type": "code",
   "execution_count": 5,
   "id": "789be2a4-6976-45f5-986b-b3249014adde",
   "metadata": {},
   "outputs": [],
   "source": [
    "from sklearn.model_selection import train_test_split\n",
    "X_train, X_test, y_train, y_test = train_test_split(X, y, test_size=0.2, random_state=100)"
   ]
  },
  {
   "cell_type": "code",
   "execution_count": 6,
   "id": "53c6f0d5-8a31-41e8-9fb5-346c083d1ec6",
   "metadata": {},
   "outputs": [
    {
     "data": {
      "text/plain": [
       "((11153, 100, 100, 3), (2789, 100, 100, 3), (11153, 4), (2789, 4))"
      ]
     },
     "execution_count": 6,
     "metadata": {},
     "output_type": "execute_result"
    }
   ],
   "source": [
    "X_train.shape, X_test.shape, y_train.shape, y_test.shape"
   ]
  },
  {
   "cell_type": "markdown",
   "id": "2c904361-f764-4a64-beb1-35b2982e8cf7",
   "metadata": {},
   "source": [
    "### Build Deep Learing Model"
   ]
  },
  {
   "cell_type": "code",
   "execution_count": 7,
   "id": "5165cf78-8a50-4cab-a9b1-caf051976da3",
   "metadata": {},
   "outputs": [
    {
     "name": "stdout",
     "output_type": "stream",
     "text": [
      "WARNING:tensorflow:From /tmp/ipykernel_3479/1102165835.py:4: is_gpu_available (from tensorflow.python.framework.test_util) is deprecated and will be removed in a future version.\n",
      "Instructions for updating:\n",
      "Use `tf.config.list_physical_devices('GPU')` instead.\n"
     ]
    },
    {
     "name": "stderr",
     "output_type": "stream",
     "text": [
      "2022-01-10 14:14:47.512907: I tensorflow/core/platform/cpu_feature_guard.cc:151] This TensorFlow binary is optimized with oneAPI Deep Neural Network Library (oneDNN) to use the following CPU instructions in performance-critical operations:  AVX2 FMA\n",
      "To enable them in other operations, rebuild TensorFlow with the appropriate compiler flags.\n",
      "2022-01-10 14:14:47.579677: I tensorflow/stream_executor/cuda/cuda_gpu_executor.cc:939] successful NUMA node read from SysFS had negative value (-1), but there must be at least one NUMA node, so returning NUMA node zero\n",
      "2022-01-10 14:14:47.668957: I tensorflow/stream_executor/cuda/cuda_gpu_executor.cc:939] successful NUMA node read from SysFS had negative value (-1), but there must be at least one NUMA node, so returning NUMA node zero\n",
      "2022-01-10 14:14:47.669111: I tensorflow/stream_executor/cuda/cuda_gpu_executor.cc:939] successful NUMA node read from SysFS had negative value (-1), but there must be at least one NUMA node, so returning NUMA node zero\n",
      "2022-01-10 14:14:48.585830: I tensorflow/stream_executor/cuda/cuda_gpu_executor.cc:939] successful NUMA node read from SysFS had negative value (-1), but there must be at least one NUMA node, so returning NUMA node zero\n",
      "2022-01-10 14:14:48.586000: I tensorflow/stream_executor/cuda/cuda_gpu_executor.cc:939] successful NUMA node read from S"
     ]
    },
    {
     "data": {
      "text/plain": [
       "True"
      ]
     },
     "execution_count": 7,
     "metadata": {},
     "output_type": "execute_result"
    },
    {
     "name": "stderr",
     "output_type": "stream",
     "text": [
      "ysFS had negative value (-1), but there must be at least one NUMA node, so returning NUMA node zero\n",
      "2022-01-10 14:14:48.586291: I tensorflow/stream_executor/cuda/cuda_gpu_executor.cc:939] successful NUMA node read from SysFS had negative value (-1), but there must be at least one NUMA node, so returning NUMA node zero\n",
      "2022-01-10 14:14:48.587104: I tensorflow/core/common_runtime/gpu/gpu_device.cc:1525] Created device /device:GPU:0 with 2305 MB memory:  -> device: 0, name: NVIDIA GeForce GTX 1650 Ti, pci bus id: 0000:01:00.0, compute capability: 7.5\n"
     ]
    }
   ],
   "source": [
    "# Check GPU for trainning\n",
    "import tensorflow as tf\n",
    "\n",
    "gpu_available = tf.test.is_gpu_available()\n",
    "gpu_available"
   ]
  },
  {
   "cell_type": "code",
   "execution_count": 8,
   "id": "a6eb21d2-a443-4f9a-aa0c-6ec5b47eb8d1",
   "metadata": {},
   "outputs": [
    {
     "name": "stderr",
     "output_type": "stream",
     "text": [
      "2022-01-10 14:14:56.368789: I tensorflow/stream_executor/cuda/cuda_gpu_executor.cc:939] successful NUMA node read from SysFS had negative value (-1), but there must be at least one NUMA node, so returning NUMA node zero\n",
      "2022-01-10 14:14:56.369181: I tensorflow/stream_executor/cuda/cuda_gpu_executor.cc:939] successful NUMA node read from SysFS had negative value (-1), but there must be at least one NUMA node, so returning NUMA node zero\n",
      "2022-01-10 14:14:56.369401: I tensorflow/stream_executor/cuda/cuda_gpu_executor.cc:939] successful NUMA node read from SysFS had negative value (-1), but there must be at least one NUMA node, so returning NUMA node zero\n",
      "2022-01-10 14:14:56.369895: I tensorflow/stream_executor/cuda/cuda_gpu_executor.cc:939] successful NUMA node read from SysFS had negative value (-1), but there must be at least one NUMA node, so returning NUMA node zero\n",
      "2022-01-10 14:14:56.370225: I tensorflow/stream_executor/cuda/cuda_gpu_executor.cc:939] successful NUMA node read from SysFS had negative value (-1), but there must be at least one NUMA node, so returning NUMA node zero\n",
      "2022-01-10 14:14:56.370337: I tensorflow/stream_executor/cuda/cuda_gpu_executor.cc:939] successful NUMA node read from SysFS had negative value (-1), but there must be at least one NUMA node, so returning NUMA node zero\n",
      "2022-01-10 14:14:56.370488: I tensorflow/stream_executor/cuda/cuda_gpu_executor.cc:939] successful NUMA node read from SysFS had negative value (-1), but there must be at least one NUMA node, so returning NUMA node zero\n",
      "2022-01-10 14:14:56.370600: I tensorflow/stream_executor/cuda/cuda_gpu_executor.cc:939] successful NUMA node read from SysFS had negative value (-1), but there must be at least one NUMA node, so returning NUMA node zero\n",
      "2022-01-10 14:14:56.370687: I tensorflow/core/common_runtime/gpu/gpu_device.cc:1525] Created device /job:localhost/replica:0/task:0/device:GPU:0 with 2305 MB memory:  -> device: 0, name: NVIDIA GeForce GTX 1650 Ti, pci bus id: 0000:01:00.0, compute capability: 7.5\n"
     ]
    }
   ],
   "source": [
    "import tensorflow as tf\n",
    "from tensorflow.keras import layers\n",
    "from tensorflow.keras import Sequential\n",
    "\n",
    "# convolution neural network\n",
    "model = Sequential([\n",
    "    layers.Conv2D(16, (3, 3), padding=\"same\", input_shape=(100, 100, 3), activation=\"relu\"), \n",
    "    layers.MaxPool2D(), \n",
    "    layers.Conv2D(32, (3, 3), padding=\"same\", activation=\"relu\"), \n",
    "    layers.MaxPool2D(), \n",
    "    layers.Conv2D(64, (3, 3), padding=\"same\", activation=\"relu\"), \n",
    "    layers.MaxPool2D(), \n",
    "    layers.Flatten(), \n",
    "    layers.Dense(192, activation=\"relu\"), \n",
    "    layers.Dropout(0.2),\n",
    "    layers.Dense(28, activation=\"relu\"), \n",
    "    layers.Dense(4, activation=\"softmax\")\n",
    "])\n",
    "\n",
    "# Compiling CNN model\n",
    "model.compile(optimizer=\"rmsprop\", \n",
    "             loss=tf.losses.categorical_crossentropy,\n",
    "             metrics=['accuracy'])"
   ]
  },
  {
   "cell_type": "code",
   "execution_count": 9,
   "id": "1d828f1d-32e8-4944-b7e8-dc25eb04263a",
   "metadata": {},
   "outputs": [
    {
     "name": "stdout",
     "output_type": "stream",
     "text": [
      "Model: \"sequential\"\n",
      "_________________________________________________________________\n",
      " Layer (type)                Output Shape              Param #   \n",
      "=================================================================\n",
      " conv2d (Conv2D)             (None, 100, 100, 16)      448       \n",
      "                                                                 \n",
      " max_pooling2d (MaxPooling2D  (None, 50, 50, 16)       0         \n",
      " )                                                               \n",
      "                                                                 \n",
      " conv2d_1 (Conv2D)           (None, 50, 50, 32)        4640      \n",
      "                                                                 \n",
      " max_pooling2d_1 (MaxPooling  (None, 25, 25, 32)       0         \n",
      " 2D)                                                             \n",
      "                                                                 \n",
      " conv2d_2 (Conv2D)           (None, 25, 25, 64)        18496     \n",
      "                                                                 \n",
      " max_pooling2d_2 (MaxPooling  (None, 12, 12, 64)       0         \n",
      " 2D)                                                             \n",
      "                                                                 \n",
      " flatten (Flatten)           (None, 9216)              0         \n",
      "                                                                 \n",
      " dense (Dense)               (None, 192)               1769664   \n",
      "                                                                 \n",
      " dropout (Dropout)           (None, 192)               0         \n",
      "                                                                 \n",
      " dense_1 (Dense)             (None, 28)                5404      \n",
      "                                                                 \n",
      " dense_2 (Dense)             (None, 4)                 116       \n",
      "                                                                 \n",
      "=================================================================\n",
      "Total params: 1,798,768\n",
      "Trainable params: 1,798,768\n",
      "Non-trainable params: 0\n",
      "_________________________________________________________________\n"
     ]
    }
   ],
   "source": [
    "model.summary()"
   ]
  },
  {
   "cell_type": "code",
   "execution_count": 10,
   "id": "fd5c4737-8759-4bfd-947b-a74763e9529d",
   "metadata": {
    "scrolled": true
   },
   "outputs": [
    {
     "name": "stderr",
     "output_type": "stream",
     "text": [
      "2022-01-10 14:15:00.842799: W tensorflow/core/framework/cpu_allocator_impl.cc:82] Allocation of 1338360000 exceeds 10% of free system memory.\n",
      "2022-01-10 14:15:01.613433: W tensorflow/core/framework/cpu_allocator_impl.cc:82] Allocation of 1338360000 exceeds 10% of free system memory.\n"
     ]
    },
    {
     "name": "stdout",
     "output_type": "stream",
     "text": [
      "Epoch 1/10\n"
     ]
    },
    {
     "name": "stderr",
     "output_type": "stream",
     "text": [
      "2022-01-10 14:15:04.197258: I tensorflow/stream_executor/cuda/cuda_dnn.cc:366] Loaded cuDNN version 8301\n",
      "2022-01-10 14:15:05.922543: I tensorflow/core/platform/default/subprocess.cc:304] Start cannot spawn child process: No such file or directory\n"
     ]
    },
    {
     "name": "stdout",
     "output_type": "stream",
     "text": [
      "349/349 [==============================] - ETA: 0s - loss: 0.2686 - accuracy: 0.8965"
     ]
    },
    {
     "name": "stderr",
     "output_type": "stream",
     "text": [
      "2022-01-10 14:15:10.547949: W tensorflow/core/framework/cpu_allocator_impl.cc:82] Allocation of 334680000 exceeds 10% of free system memory.\n",
      "2022-01-10 14:15:11.193660: W tensorflow/core/framework/cpu_allocator_impl.cc:82] Allocation of 334680000 exceeds 10% of free system memory.\n"
     ]
    },
    {
     "name": "stdout",
     "output_type": "stream",
     "text": [
      "349/349 [==============================] - 10s 14ms/step - loss: 0.2686 - accuracy: 0.8965 - val_loss: 0.1285 - val_accuracy: 0.9555\n",
      "Epoch 2/10\n",
      "349/349 [==============================] - 4s 11ms/step - loss: 0.0847 - accuracy: 0.9726 - val_loss: 0.0822 - val_accuracy: 0.9735\n",
      "Epoch 3/10\n",
      "349/349 [==============================] - 4s 11ms/step - loss: 0.0561 - accuracy: 0.9814 - val_loss: 0.0842 - val_accuracy: 0.9767\n",
      "Epoch 4/10\n",
      "349/349 [==============================] - 4s 11ms/step - loss: 0.0423 - accuracy: 0.9863 - val_loss: 0.0557 - val_accuracy: 0.9846\n",
      "Epoch 5/10\n",
      "349/349 [==============================] - 4s 11ms/step - loss: 0.0305 - accuracy: 0.9900 - val_loss: 0.0547 - val_accuracy: 0.9857\n",
      "Epoch 6/10\n",
      "349/349 [==============================] - 4s 11ms/step - loss: 0.0259 - accuracy: 0.9919 - val_loss: 0.1104 - val_accuracy: 0.9828\n",
      "Epoch 7/10\n",
      "349/349 [==============================] - 4s 11ms/step - loss: 0.0203 - accuracy: 0.9932 - val_loss: 0.0821 - val_accuracy: 0.9846\n",
      "Epoch 8/10\n",
      "349/349 [==============================] - 4s 11ms/step - loss: 0.0184 - accuracy: 0.9938 - val_loss: 0.0928 - val_accuracy: 0.9796\n",
      "Epoch 9/10\n",
      "349/349 [==============================] - 4s 11ms/step - loss: 0.0142 - accuracy: 0.9950 - val_loss: 0.0652 - val_accuracy: 0.9875\n",
      "Epoch 10/10\n",
      "349/349 [==============================] - 4s 11ms/step - loss: 0.0122 - accuracy: 0.9964 - val_loss: 0.1033 - val_accuracy: 0.9853\n"
     ]
    }
   ],
   "source": [
    "# Trainning CNN model\n",
    "history = model.fit(x=X_train, \n",
    "          y=y_train, \n",
    "          validation_data=(X_test, y_test), \n",
    "          epochs=10, \n",
    "          batch_size=32)"
   ]
  },
  {
   "cell_type": "code",
   "execution_count": 11,
   "id": "71ba0aa4-5f28-4e3f-885f-c39008d71e7a",
   "metadata": {},
   "outputs": [],
   "source": [
    "model.save(\"./model_trained/FaceMaskedTrainedModel.h5\")"
   ]
  },
  {
   "cell_type": "markdown",
   "id": "5686b8f9",
   "metadata": {},
   "source": [
    "## Hiển thị độ chính xác"
   ]
  },
  {
   "cell_type": "code",
   "execution_count": 12,
   "id": "83f3a0c1",
   "metadata": {},
   "outputs": [],
   "source": [
    "import pandas as pd\n",
    "import matplotlib.pyplot as plt"
   ]
  },
  {
   "cell_type": "code",
   "execution_count": 13,
   "id": "80452a55",
   "metadata": {},
   "outputs": [],
   "source": [
    "history_df = pd.DataFrame(history.history)"
   ]
  },
  {
   "cell_type": "code",
   "execution_count": 14,
   "id": "3be630f8",
   "metadata": {},
   "outputs": [
    {
     "data": {
      "text/html": [
       "<div>\n",
       "<style scoped>\n",
       "    .dataframe tbody tr th:only-of-type {\n",
       "        vertical-align: middle;\n",
       "    }\n",
       "\n",
       "    .dataframe tbody tr th {\n",
       "        vertical-align: top;\n",
       "    }\n",
       "\n",
       "    .dataframe thead th {\n",
       "        text-align: right;\n",
       "    }\n",
       "</style>\n",
       "<table border=\"1\" class=\"dataframe\">\n",
       "  <thead>\n",
       "    <tr style=\"text-align: right;\">\n",
       "      <th></th>\n",
       "      <th>loss</th>\n",
       "      <th>accuracy</th>\n",
       "      <th>val_loss</th>\n",
       "      <th>val_accuracy</th>\n",
       "    </tr>\n",
       "  </thead>\n",
       "  <tbody>\n",
       "    <tr>\n",
       "      <th>0</th>\n",
       "      <td>0.268604</td>\n",
       "      <td>0.896530</td>\n",
       "      <td>0.128460</td>\n",
       "      <td>0.955540</td>\n",
       "    </tr>\n",
       "    <tr>\n",
       "      <th>1</th>\n",
       "      <td>0.084726</td>\n",
       "      <td>0.972563</td>\n",
       "      <td>0.082222</td>\n",
       "      <td>0.973467</td>\n",
       "    </tr>\n",
       "    <tr>\n",
       "      <th>2</th>\n",
       "      <td>0.056095</td>\n",
       "      <td>0.981350</td>\n",
       "      <td>0.084168</td>\n",
       "      <td>0.976694</td>\n",
       "    </tr>\n",
       "    <tr>\n",
       "      <th>3</th>\n",
       "      <td>0.042280</td>\n",
       "      <td>0.986282</td>\n",
       "      <td>0.055689</td>\n",
       "      <td>0.984582</td>\n",
       "    </tr>\n",
       "    <tr>\n",
       "      <th>4</th>\n",
       "      <td>0.030459</td>\n",
       "      <td>0.989958</td>\n",
       "      <td>0.054743</td>\n",
       "      <td>0.985658</td>\n",
       "    </tr>\n",
       "    <tr>\n",
       "      <th>5</th>\n",
       "      <td>0.025930</td>\n",
       "      <td>0.991930</td>\n",
       "      <td>0.110437</td>\n",
       "      <td>0.982790</td>\n",
       "    </tr>\n",
       "    <tr>\n",
       "      <th>6</th>\n",
       "      <td>0.020324</td>\n",
       "      <td>0.993186</td>\n",
       "      <td>0.082095</td>\n",
       "      <td>0.984582</td>\n",
       "    </tr>\n",
       "    <tr>\n",
       "      <th>7</th>\n",
       "      <td>0.018416</td>\n",
       "      <td>0.993813</td>\n",
       "      <td>0.092799</td>\n",
       "      <td>0.979563</td>\n",
       "    </tr>\n",
       "    <tr>\n",
       "      <th>8</th>\n",
       "      <td>0.014195</td>\n",
       "      <td>0.994979</td>\n",
       "      <td>0.065179</td>\n",
       "      <td>0.987451</td>\n",
       "    </tr>\n",
       "    <tr>\n",
       "      <th>9</th>\n",
       "      <td>0.012218</td>\n",
       "      <td>0.996414</td>\n",
       "      <td>0.103339</td>\n",
       "      <td>0.985299</td>\n",
       "    </tr>\n",
       "  </tbody>\n",
       "</table>\n",
       "</div>"
      ],
      "text/plain": [
       "       loss  accuracy  val_loss  val_accuracy\n",
       "0  0.268604  0.896530  0.128460      0.955540\n",
       "1  0.084726  0.972563  0.082222      0.973467\n",
       "2  0.056095  0.981350  0.084168      0.976694\n",
       "3  0.042280  0.986282  0.055689      0.984582\n",
       "4  0.030459  0.989958  0.054743      0.985658\n",
       "5  0.025930  0.991930  0.110437      0.982790\n",
       "6  0.020324  0.993186  0.082095      0.984582\n",
       "7  0.018416  0.993813  0.092799      0.979563\n",
       "8  0.014195  0.994979  0.065179      0.987451\n",
       "9  0.012218  0.996414  0.103339      0.985299"
      ]
     },
     "execution_count": 14,
     "metadata": {},
     "output_type": "execute_result"
    }
   ],
   "source": [
    "history_df"
   ]
  },
  {
   "cell_type": "code",
   "execution_count": 15,
   "id": "d7e06378",
   "metadata": {},
   "outputs": [
    {
     "data": {
      "image/png": "[encoded data removed]",
      "text/plain": [
       "<Figure size 432x288 with 1 Axes>"
      ]
     },
     "metadata": {
      "needs_background": "light"
     },
     "output_type": "display_data"
    }
   ],
   "source": [
    "history_df[['loss', 'val_loss']].plot(kind='line')\n",
    "plt.xlabel('Epochs')\n",
    "plt.ylabel('loss')\n",
    "plt.show()"
   ]
  },
  {
   "cell_type": "code",
   "execution_count": 16,
   "id": "cb0e1c1c",
   "metadata": {},
   "outputs": [
    {
     "data": {
      "image/png": "[encoded data removed]",
      "text/plain": [
       "<Figure size 432x288 with 1 Axes>"
      ]
     },
     "metadata": {
      "needs_background": "light"
     },
     "output_type": "display_data"
    }
   ],
   "source": [
    "history_df[['accuracy', 'val_accuracy']].plot(kind='line')\n",
    "plt.xlabel('Epochs')\n",
    "plt.ylabel('accuracy')\n",
    "plt.show()"
   ]
  },
  {
   "cell_type": "code",
   "execution_count": null,
   "id": "6e612f9a",
   "metadata": {},
   "outputs": [],
   "source": []
  }
 ],
 "metadata": {
  "kernelspec": {
   "display_name": "Python 3",
   "language": "python",
   "name": "python3"
  },
  "language_info": {
   "codemirror_mode": {
    "name": "ipython",
    "version": 3
   },
   "file_extension": ".py",
   "mimetype": "text/x-python",
   "name": "python",
   "nbconvert_exporter": "python",
   "pygments_lexer": "ipython3",
   "version": "3.8.12"
  }
 },
 "nbformat": 4,
 "nbformat_minor": 5
}
