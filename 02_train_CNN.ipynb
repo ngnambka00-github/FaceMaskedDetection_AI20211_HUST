{
 "cells": [
  {
   "cell_type": "markdown",
   "id": "a8da5c51-07d6-47ad-b1ff-826301496bc3",
   "metadata": {},
   "source": [
    "## Train Deep Learning Model"
   ]
  },
  {
   "cell_type": "markdown",
   "id": "796a216c-078d-4906-a218-db7d51edcaef",
   "metadata": {},
   "source": [
    "### Step-1: load the preprocessing data"
   ]
  },
  {
   "cell_type": "code",
   "execution_count": 1,
   "id": "f2165b52-bc85-4361-81ac-7623641f661d",
   "metadata": {},
   "outputs": [],
   "source": [
    "import os\n",
    "import numpy as np\n",
    "import cv2\n",
    "import gc"
   ]
  },
  {
   "cell_type": "code",
   "execution_count": 2,
   "id": "f8935c20-c15e-4444-8c9b-40d7af35cdaa",
   "metadata": {},
   "outputs": [],
   "source": [
    "# load the preprocessing data\n",
    "data = np.load(\"./data_preprocessing/data_preprocesiing.npz\")"
   ]
  },
  {
   "cell_type": "code",
   "execution_count": 3,
   "id": "6bf306ff-8cf2-4f71-b111-781adb36bcdc",
   "metadata": {},
   "outputs": [],
   "source": [
    "X = data['arr_0']\n",
    "y = data['arr_1']"
   ]
  },
  {
   "cell_type": "markdown",
   "id": "60e1ba9a-04a5-47d4-ad95-6a60bfe7c7b8",
   "metadata": {},
   "source": [
    "### Split the data into Train and Test sets"
   ]
  },
  {
   "cell_type": "code",
   "execution_count": 4,
   "id": "789be2a4-6976-45f5-986b-b3249014adde",
   "metadata": {},
   "outputs": [],
   "source": [
    "from sklearn.model_selection import train_test_split\n",
    "X_train, X_test, y_train, y_test = train_test_split(X, y, test_size=0.2, random_state=100)"
   ]
  },
  {
   "cell_type": "code",
   "execution_count": 5,
   "id": "53c6f0d5-8a31-41e8-9fb5-346c083d1ec6",
   "metadata": {},
   "outputs": [
    {
     "data": {
      "text/plain": [
       "((8160, 100, 100, 3), (2041, 100, 100, 3), (8160, 4), (2041, 4))"
      ]
     },
     "execution_count": 5,
     "metadata": {},
     "output_type": "execute_result"
    }
   ],
   "source": [
    "X_train.shape, X_test.shape, y_train.shape, y_test.shape"
   ]
  },
  {
   "cell_type": "markdown",
   "id": "2c904361-f764-4a64-beb1-35b2982e8cf7",
   "metadata": {},
   "source": [
    "### Build Deep Learing Model"
   ]
  },
  {
   "cell_type": "code",
   "execution_count": 2,
   "id": "5165cf78-8a50-4cab-a9b1-caf051976da3",
   "metadata": {},
   "outputs": [
    {
     "name": "stderr",
     "output_type": "stream",
     "text": [
      "2022-01-09 20:54:33.702725: I tensorflow/stream_executor/cuda/cuda_gpu_executor.cc:939] successful NUMA node read from SysFS had negative value (-1), but there must be at least one NUMA node, so returning NUMA node zero\n"
     ]
    },
    {
     "data": {
      "text/plain": [
       "True"
      ]
     },
     "execution_count": 2,
     "metadata": {},
     "output_type": "execute_result"
    },
    {
     "name": "stderr",
     "output_type": "stream",
     "text": [
      "2022-01-09 20:54:33.703013: I tensorflow/stream_executor/cuda/cuda_gpu_executor.cc:939] successful NUMA node read from SysFS had negative value (-1), but there must be at least one NUMA node, so returning NUMA node zero\n",
      "2022-01-09 20:54:33.703193: I tensorflow/stream_executor/cuda/cuda_gpu_executor.cc:939] successful NUMA node read from SysFS had negative value (-1), but there must be at least one NUMA node, so returning NUMA node zero\n",
      "2022-01-09 20:54:33.703422: I tensorflow/stream_executor/cuda/cuda_gpu_executor.cc:939] successful NUMA node read from SysFS had negative value (-1), but there must be at least one NUMA node, so returning NUMA node zero\n",
      "2022-01-09 20:54:33.703597: I tensorflow/stream_executor/cuda/cuda_gpu_executor.cc:939] successful NUMA node read from SysFS had negative value (-1), but there must be at least one NUMA node, so returning NUMA node zero\n",
      "2022-01-09 20:54:33.703743: I tensorflow/core/common_runtime/gpu/gpu_device.cc:1525] Created device /device:GPU:0 with 2212 MB memory:  -> device: 0, name: NVIDIA GeForce GTX 1650 Ti, pci bus id: 0000:01:00.0, compute capability: 7.5\n"
     ]
    }
   ],
   "source": [
    "# Check GPU for trainning\n",
    "import tensorflow as tf\n",
    "\n",
    "gpu_available = tf.test.is_gpu_available()\n",
    "gpu_available"
   ]
  },
  {
   "cell_type": "code",
   "execution_count": 6,
   "id": "a6eb21d2-a443-4f9a-aa0c-6ec5b47eb8d1",
   "metadata": {},
   "outputs": [
    {
     "name": "stderr",
     "output_type": "stream",
     "text": [
      "2021-12-09 15:03:42.919369: I tensorflow/stream_executor/cuda/cuda_gpu_executor.cc:939] successful NUMA node read from SysFS had negative value (-1), but there must be at least one NUMA node, so returning NUMA node zero\n",
      "2021-12-09 15:03:43.007002: I tensorflow/stream_executor/cuda/cuda_gpu_executor.cc:939] successful NUMA node read from SysFS had negative value (-1), but there must be at least one NUMA node, so returning NUMA node zero\n",
      "2021-12-09 15:03:43.007159: I tensorflow/stream_executor/cuda/cuda_gpu_executor.cc:939] successful NUMA node read from SysFS had negative value (-1), but there must be at least one NUMA node, so returning NUMA node zero\n",
      "2021-12-09 15:03:43.008153: I tensorflow/core/platform/cpu_feature_guard.cc:151] This TensorFlow binary is optimized with oneAPI Deep Neural Network Library (oneDNN) to use the following CPU instructions in performance-critical operations:  AVX2 FMA\n",
      "To enable them in other operations, rebuild TensorFlow with the appropriate compiler flags.\n",
      "2021-12-09 15:03:43.009335: I tensorflow/stream_executor/cuda/cuda_gpu_executor.cc:939] successful NUMA node read from SysFS had negative value (-1), but there must be at least one NUMA node, so returning NUMA node zero\n",
      "2021-12-09 15:03:43.009468: I tensorflow/stream_executor/cuda/cuda_gpu_executor.cc:939] successful NUMA node read from SysFS had negative value (-1), but there must be at least one NUMA node, so returning NUMA node zero\n",
      "2021-12-09 15:03:43.009586: I tensorflow/stream_executor/cuda/cuda_gpu_executor.cc:939] successful NUMA node read from SysFS had negative value (-1), but there must be at least one NUMA node, so returning NUMA node zero\n",
      "2021-12-09 15:03:43.520439: I tensorflow/stream_executor/cuda/cuda_gpu_executor.cc:939] successful NUMA node read from SysFS had negative value (-1), but there must be at least one NUMA node, so returning NUMA node zero\n",
      "2021-12-09 15:03:43.520671: I tensorflow/stream_executor/cuda/cuda_gpu_executor.cc:939] successful NUMA node read from SysFS had negative value (-1), but there must be at least one NUMA node, so returning NUMA node zero\n",
      "2021-12-09 15:03:43.520808: I tensorflow/stream_executor/cuda/cuda_gpu_executor.cc:939] successful NUMA node read from SysFS had negative value (-1), but there must be at least one NUMA node, so returning NUMA node zero\n",
      "2021-12-09 15:03:43.521263: I tensorflow/core/common_runtime/gpu/gpu_device.cc:1525] Created device /job:localhost/replica:0/task:0/device:GPU:0 with 1779 MB memory:  -> device: 0, name: NVIDIA GeForce GTX 1650 Ti, pci bus id: 0000:01:00.0, compute capability: 7.5\n"
     ]
    }
   ],
   "source": [
    "import tensorflow as tf\n",
    "from tensorflow.keras import layers\n",
    "from tensorflow.keras import Sequential\n",
    "\n",
    "# convolution neural network\n",
    "model = Sequential([\n",
    "    layers.Conv2D(16, (3, 3), padding=\"same\", input_shape=(100, 100, 3), activation=\"relu\"), \n",
    "    layers.MaxPool2D(), \n",
    "    layers.Conv2D(32, (3, 3), padding=\"same\", activation=\"relu\"), \n",
    "    layers.MaxPool2D(), \n",
    "    layers.Conv2D(64, (3, 3), padding=\"same\", activation=\"relu\"), \n",
    "    layers.MaxPool2D(), \n",
    "    layers.Flatten(), \n",
    "    layers.Dense(192, activation=\"relu\"), \n",
    "    layers.Dropout(0.2),\n",
    "    layers.Dense(28, activation=\"relu\"), \n",
    "    layers.Dense(4, activation=\"softmax\")\n",
    "])\n",
    "\n",
    "# Compiling CNN model\n",
    "model.compile(optimizer=\"rmsprop\", \n",
    "             loss=tf.losses.categorical_crossentropy,\n",
    "             metrics=['accuracy'])"
   ]
  },
  {
   "cell_type": "code",
   "execution_count": 7,
   "id": "1d828f1d-32e8-4944-b7e8-dc25eb04263a",
   "metadata": {},
   "outputs": [
    {
     "name": "stdout",
     "output_type": "stream",
     "text": [
      "Model: \"sequential\"\n",
      "_________________________________________________________________\n",
      " Layer (type)                Output Shape              Param #   \n",
      "=================================================================\n",
      " conv2d (Conv2D)             (None, 100, 100, 16)      448       \n",
      "                                                                 \n",
      " max_pooling2d (MaxPooling2D  (None, 50, 50, 16)       0         \n",
      " )                                                               \n",
      "                                                                 \n",
      " conv2d_1 (Conv2D)           (None, 50, 50, 32)        4640      \n",
      "                                                                 \n",
      " max_pooling2d_1 (MaxPooling  (None, 25, 25, 32)       0         \n",
      " 2D)                                                             \n",
      "                                                                 \n",
      " conv2d_2 (Conv2D)           (None, 25, 25, 64)        18496     \n",
      "                                                                 \n",
      " max_pooling2d_2 (MaxPooling  (None, 12, 12, 64)       0         \n",
      " 2D)                                                             \n",
      "                                                                 \n",
      " flatten (Flatten)           (None, 9216)              0         \n",
      "                                                                 \n",
      " dense (Dense)               (None, 192)               1769664   \n",
      "                                                                 \n",
      " dropout (Dropout)           (None, 192)               0         \n",
      "                                                                 \n",
      " dense_1 (Dense)             (None, 28)                5404      \n",
      "                                                                 \n",
      " dense_2 (Dense)             (None, 4)                 116       \n",
      "                                                                 \n",
      "=================================================================\n",
      "Total params: 1,798,768\n",
      "Trainable params: 1,798,768\n",
      "Non-trainable params: 0\n",
      "_________________________________________________________________\n"
     ]
    }
   ],
   "source": [
    "model.summary()"
   ]
  },
  {
   "cell_type": "code",
   "execution_count": 8,
   "id": "fd5c4737-8759-4bfd-947b-a74763e9529d",
   "metadata": {
    "scrolled": true
   },
   "outputs": [
    {
     "name": "stderr",
     "output_type": "stream",
     "text": [
      "2021-12-09 15:03:43.607986: W tensorflow/core/framework/cpu_allocator_impl.cc:82] Allocation of 979200000 exceeds 10% of free system memory.\n",
      "2021-12-09 15:03:44.153329: W tensorflow/core/framework/cpu_allocator_impl.cc:82] Allocation of 979200000 exceeds 10% of free system memory.\n"
     ]
    },
    {
     "name": "stdout",
     "output_type": "stream",
     "text": [
      "Epoch 1/10\n"
     ]
    },
    {
     "name": "stderr",
     "output_type": "stream",
     "text": [
      "2021-12-09 15:03:46.727100: I tensorflow/stream_executor/cuda/cuda_dnn.cc:366] Loaded cuDNN version 8301\n",
      "2021-12-09 15:03:48.172511: I tensorflow/core/platform/default/subprocess.cc:304] Start cannot spawn child process: No such file or directory\n"
     ]
    },
    {
     "name": "stdout",
     "output_type": "stream",
     "text": [
      "510/510 [==============================] - ETA: 0s - loss: 0.2553 - accuracy: 0.9039"
     ]
    },
    {
     "name": "stderr",
     "output_type": "stream",
     "text": [
      "2021-12-09 15:03:52.490152: W tensorflow/core/framework/cpu_allocator_impl.cc:82] Allocation of 244920000 exceeds 10% of free system memory.\n",
      "2021-12-09 15:03:52.855097: W tensorflow/core/framework/cpu_allocator_impl.cc:82] Allocation of 244920000 exceeds 10% of free system memory.\n"
     ]
    },
    {
     "name": "stdout",
     "output_type": "stream",
     "text": [
      "510/510 [==============================] - 9s 9ms/step - loss: 0.2553 - accuracy: 0.9039 - val_loss: 0.1304 - val_accuracy: 0.9593\n",
      "Epoch 2/10\n",
      "510/510 [==============================] - 4s 7ms/step - loss: 0.0903 - accuracy: 0.9716 - val_loss: 0.0860 - val_accuracy: 0.9750\n",
      "Epoch 3/10\n",
      "510/510 [==============================] - 4s 8ms/step - loss: 0.0703 - accuracy: 0.9789 - val_loss: 0.0634 - val_accuracy: 0.9789\n",
      "Epoch 4/10\n",
      "510/510 [==============================] - 4s 8ms/step - loss: 0.0529 - accuracy: 0.9830 - val_loss: 0.0579 - val_accuracy: 0.9838\n",
      "Epoch 5/10\n",
      "510/510 [==============================] - 4s 8ms/step - loss: 0.0429 - accuracy: 0.9866 - val_loss: 0.0573 - val_accuracy: 0.9824\n",
      "Epoch 6/10\n",
      "510/510 [==============================] - 4s 8ms/step - loss: 0.0387 - accuracy: 0.9884 - val_loss: 0.0765 - val_accuracy: 0.9804\n",
      "Epoch 7/10\n",
      "510/510 [==============================] - 4s 7ms/step - loss: 0.0320 - accuracy: 0.9911 - val_loss: 0.1195 - val_accuracy: 0.9775\n",
      "Epoch 8/10\n",
      "510/510 [==============================] - 4s 8ms/step - loss: 0.0288 - accuracy: 0.9908 - val_loss: 0.0865 - val_accuracy: 0.9819\n",
      "Epoch 9/10\n",
      "510/510 [==============================] - 4s 7ms/step - loss: 0.0278 - accuracy: 0.9918 - val_loss: 0.1093 - val_accuracy: 0.9784\n",
      "Epoch 10/10\n",
      "510/510 [==============================] - 4s 7ms/step - loss: 0.0256 - accuracy: 0.9931 - val_loss: 0.0995 - val_accuracy: 0.9809\n"
     ]
    }
   ],
   "source": [
    "# Trainning CNN model\n",
    "history = model.fit(x=X_train, \n",
    "          y=y_train, \n",
    "          validation_data=(X_test, y_test), \n",
    "          epochs=10, \n",
    "          batch_size=16)"
   ]
  },
  {
   "cell_type": "code",
   "execution_count": 9,
   "id": "71ba0aa4-5f28-4e3f-885f-c39008d71e7a",
   "metadata": {},
   "outputs": [],
   "source": [
    "model.save(\"./model_trained/FaceMaskedTrainedModel.h5\")"
   ]
  },
  {
   "cell_type": "markdown",
   "id": "5686b8f9",
   "metadata": {},
   "source": [
    "## Hiển thị độ chính xác"
   ]
  },
  {
   "cell_type": "code",
   "execution_count": 10,
   "id": "83f3a0c1",
   "metadata": {},
   "outputs": [],
   "source": [
    "import pandas as pd\n",
    "import matplotlib.pyplot as plt"
   ]
  },
  {
   "cell_type": "code",
   "execution_count": 11,
   "id": "80452a55",
   "metadata": {},
   "outputs": [],
   "source": [
    "history_df = pd.DataFrame(history.history)"
   ]
  },
  {
   "cell_type": "code",
   "execution_count": 12,
   "id": "3be630f8",
   "metadata": {},
   "outputs": [
    {
     "data": {
      "text/html": [
       "<div>\n",
       "<style scoped>\n",
       "    .dataframe tbody tr th:only-of-type {\n",
       "        vertical-align: middle;\n",
       "    }\n",
       "\n",
       "    .dataframe tbody tr th {\n",
       "        vertical-align: top;\n",
       "    }\n",
       "\n",
       "    .dataframe thead th {\n",
       "        text-align: right;\n",
       "    }\n",
       "</style>\n",
       "<table border=\"1\" class=\"dataframe\">\n",
       "  <thead>\n",
       "    <tr style=\"text-align: right;\">\n",
       "      <th></th>\n",
       "      <th>loss</th>\n",
       "      <th>accuracy</th>\n",
       "      <th>val_loss</th>\n",
       "      <th>val_accuracy</th>\n",
       "    </tr>\n",
       "  </thead>\n",
       "  <tbody>\n",
       "    <tr>\n",
       "      <th>0</th>\n",
       "      <td>0.255309</td>\n",
       "      <td>0.903922</td>\n",
       "      <td>0.130432</td>\n",
       "      <td>0.959334</td>\n",
       "    </tr>\n",
       "    <tr>\n",
       "      <th>1</th>\n",
       "      <td>0.090281</td>\n",
       "      <td>0.971569</td>\n",
       "      <td>0.085985</td>\n",
       "      <td>0.975012</td>\n",
       "    </tr>\n",
       "    <tr>\n",
       "      <th>2</th>\n",
       "      <td>0.070267</td>\n",
       "      <td>0.978922</td>\n",
       "      <td>0.063381</td>\n",
       "      <td>0.978932</td>\n",
       "    </tr>\n",
       "    <tr>\n",
       "      <th>3</th>\n",
       "      <td>0.052913</td>\n",
       "      <td>0.982966</td>\n",
       "      <td>0.057853</td>\n",
       "      <td>0.983831</td>\n",
       "    </tr>\n",
       "    <tr>\n",
       "      <th>4</th>\n",
       "      <td>0.042924</td>\n",
       "      <td>0.986642</td>\n",
       "      <td>0.057316</td>\n",
       "      <td>0.982362</td>\n",
       "    </tr>\n",
       "    <tr>\n",
       "      <th>5</th>\n",
       "      <td>0.038746</td>\n",
       "      <td>0.988358</td>\n",
       "      <td>0.076498</td>\n",
       "      <td>0.980402</td>\n",
       "    </tr>\n",
       "    <tr>\n",
       "      <th>6</th>\n",
       "      <td>0.032012</td>\n",
       "      <td>0.991054</td>\n",
       "      <td>0.119540</td>\n",
       "      <td>0.977462</td>\n",
       "    </tr>\n",
       "    <tr>\n",
       "      <th>7</th>\n",
       "      <td>0.028755</td>\n",
       "      <td>0.990809</td>\n",
       "      <td>0.086504</td>\n",
       "      <td>0.981872</td>\n",
       "    </tr>\n",
       "    <tr>\n",
       "      <th>8</th>\n",
       "      <td>0.027750</td>\n",
       "      <td>0.991789</td>\n",
       "      <td>0.109291</td>\n",
       "      <td>0.978442</td>\n",
       "    </tr>\n",
       "    <tr>\n",
       "      <th>9</th>\n",
       "      <td>0.025613</td>\n",
       "      <td>0.993137</td>\n",
       "      <td>0.099454</td>\n",
       "      <td>0.980892</td>\n",
       "    </tr>\n",
       "  </tbody>\n",
       "</table>\n",
       "</div>"
      ],
      "text/plain": [
       "       loss  accuracy  val_loss  val_accuracy\n",
       "0  0.255309  0.903922  0.130432      0.959334\n",
       "1  0.090281  0.971569  0.085985      0.975012\n",
       "2  0.070267  0.978922  0.063381      0.978932\n",
       "3  0.052913  0.982966  0.057853      0.983831\n",
       "4  0.042924  0.986642  0.057316      0.982362\n",
       "5  0.038746  0.988358  0.076498      0.980402\n",
       "6  0.032012  0.991054  0.119540      0.977462\n",
       "7  0.028755  0.990809  0.086504      0.981872\n",
       "8  0.027750  0.991789  0.109291      0.978442\n",
       "9  0.025613  0.993137  0.099454      0.980892"
      ]
     },
     "execution_count": 12,
     "metadata": {},
     "output_type": "execute_result"
    }
   ],
   "source": [
    "history_df"
   ]
  },
  {
   "cell_type": "code",
   "execution_count": 13,
   "id": "d7e06378",
   "metadata": {},
   "outputs": [
    {
     "data": {
      "image/png": "[encoded data removed]",
      "text/plain": [
       "<Figure size 432x288 with 1 Axes>"
      ]
     },
     "metadata": {
      "needs_background": "light"
     },
     "output_type": "display_data"
    }
   ],
   "source": [
    "history_df[['loss', 'val_loss']].plot(kind='line')\n",
    "plt.xlabel('Epochs')\n",
    "plt.ylabel('loss')\n",
    "plt.show()"
   ]
  },
  {
   "cell_type": "code",
   "execution_count": 14,
   "id": "cb0e1c1c",
   "metadata": {},
   "outputs": [
    {
     "data": {
      "image/png": "[encoded data removed]",
      "text/plain": [
       "<Figure size 432x288 with 1 Axes>"
      ]
     },
     "metadata": {
      "needs_background": "light"
     },
     "output_type": "display_data"
    }
   ],
   "source": [
    "history_df[['accuracy', 'val_accuracy']].plot(kind='line')\n",
    "plt.xlabel('Epochs')\n",
    "plt.ylabel('accuracy')\n",
    "plt.show()"
   ]
  },
  {
   "cell_type": "code",
   "execution_count": null,
   "id": "6e612f9a",
   "metadata": {},
   "outputs": [],
   "source": []
  }
 ],
 "metadata": {
  "kernelspec": {
   "display_name": "Python 3",
   "language": "python",
   "name": "python3"
  },
  "language_info": {
   "codemirror_mode": {
    "name": "ipython",
    "version": 3
   },
   "file_extension": ".py",
   "mimetype": "text/x-python",
   "name": "python",
   "nbconvert_exporter": "python",
   "pygments_lexer": "ipython3",
   "version": "3.8.12"
  }
 },
 "nbformat": 4,
 "nbformat_minor": 5
}
