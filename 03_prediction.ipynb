{
 "cells": [
  {
   "cell_type": "code",
   "execution_count": 1,
   "id": "23a7604e-8a94-47d1-a79f-5757f9105645",
   "metadata": {},
   "outputs": [],
   "source": [
    "import numpy as np\n",
    "import cv2\n",
    "import tensorflow as tf"
   ]
  },
  {
   "cell_type": "code",
   "execution_count": 2,
   "id": "8987a9d3-c299-4505-af2b-83593d8e59bf",
   "metadata": {},
   "outputs": [
    {
     "name": "stderr",
     "output_type": "stream",
     "text": [
      "2021-12-09 15:12:29.708314: I tensorflow/stream_executor/cuda/cuda_gpu_executor.cc:939] successful NUMA node read from SysFS had negative value (-1), but there must be at least one NUMA node, so returning NUMA node zero\n",
      "2021-12-09 15:12:29.768803: I tensorflow/stream_executor/cuda/cuda_gpu_executor.cc:939] successful NUMA node read from SysFS had negative value (-1), but there must be at least one NUMA node, so returning NUMA node zero\n",
      "2021-12-09 15:12:29.768966: I tensorflow/stream_executor/cuda/cuda_gpu_executor.cc:939] successful NUMA node read from SysFS had negative value (-1), but there must be at least one NUMA node, so returning NUMA node zero\n",
      "2021-12-09 15:12:29.769549: I tensorflow/core/platform/cpu_feature_guard.cc:151] This TensorFlow binary is optimized with oneAPI Deep Neural Network Library (oneDNN) to use the following CPU instructions in performance-critical operations:  AVX2 FMA\n",
      "To enable them in other operations, rebuild TensorFlow with the appropriate compiler flags.\n",
      "2021-12-09 15:12:29.770147: I tensorflow/stream_executor/cuda/cuda_gpu_executor.cc:939] successful NUMA node read from SysFS had negative value (-1), but there must be at least one NUMA node, so returning NUMA node zero\n",
      "2021-12-09 15:12:29.770282: I tensorflow/stream_executor/cuda/cuda_gpu_executor.cc:939] successful NUMA node read from SysFS had negative value (-1), but there must be at least one NUMA node, so returning NUMA node zero\n",
      "2021-12-09 15:12:29.770401: I tensorflow/stream_executor/cuda/cuda_gpu_executor.cc:939] successful NUMA node read from SysFS had negative value (-1), but there must be at least one NUMA node, so returning NUMA node zero\n",
      "2021-12-09 15:12:30.521308: I tensorflow/stream_executor/cuda/cuda_gpu_executor.cc:939] successful NUMA node read from SysFS had negative value (-1), but there must be at least one NUMA node, so returning NUMA node zero\n",
      "2021-12-09 15:12:30.521458: I tensorflow/stream_executor/cuda/cuda_gpu_executor.cc:939] successful NUMA node read from SysFS had negative value (-1), but there must be at least one NUMA node, so returning NUMA node zero\n",
      "2021-12-09 15:12:30.521569: I tensorflow/stream_executor/cuda/cuda_gpu_executor.cc:939] successful NUMA node read from SysFS had negative value (-1), but there must be at least one NUMA node, so returning NUMA node zero\n",
      "2021-12-09 15:12:30.521673: I tensorflow/core/common_runtime/gpu/gpu_device.cc:1525] Created device /job:localhost/replica:0/task:0/device:GPU:0 with 2171 MB memory:  -> device: 0, name: NVIDIA GeForce GTX 1650 Ti, pci bus id: 0000:01:00.0, compute capability: 7.5\n"
     ]
    }
   ],
   "source": [
    "# load face detection model (DNN OpenCV)\n",
    "face_detection_model =cv2.dnn.readNetFromCaffe(\"./models/deploy.prototxt.txt\", \n",
    "                                              \"./models/res10_300x300_ssd_iter_140000_fp16.caffemodel\")\n",
    "\n",
    "# Load model đã được train từ trước \n",
    "model = tf.keras.models.load_model(\"./model_trained/FaceMaskedTrainedModel02.h5\")"
   ]
  },
  {
   "cell_type": "code",
   "execution_count": 10,
   "id": "9a48a9fc",
   "metadata": {},
   "outputs": [
    {
     "name": "stdout",
     "output_type": "stream",
     "text": [
      "(None, 100, 100, 3)\n",
      "(1, 100, 100, 3)\n",
      "[[0.00059103 0.4185522  0.28809175 0.2927651 ]]\n"
     ]
    }
   ],
   "source": [
    "# Test predict\n",
    "a = np.random.rand(1, 100, 100, 3)\n",
    "print(model.layers[0].input_shape)\n",
    "print(a.shape)\n",
    "print(model.predict(a))"
   ]
  },
  {
   "cell_type": "code",
   "execution_count": 4,
   "id": "ae1e8564-c3fa-4118-98af-cd07521aef69",
   "metadata": {},
   "outputs": [],
   "source": [
    "# labels\n",
    "labels = ['Mask', 'No Mask', 'Covered Mouth Chin', 'Covered Nose Mouth']\n",
    "\n",
    "def get_color(label):\n",
    "    color = None\n",
    "    if label == \"Mask\": \n",
    "        color = (0, 255, 0) # Green\n",
    "    elif label == \"No Mask\":\n",
    "        color = (0, 0, 255) # red\n",
    "    elif label == \"Covered Mouth Chin\": \n",
    "        color = (0, 255, 255)\n",
    "    else: \n",
    "        color = (255, 255, 0)\n",
    "    return color"
   ]
  },
  {
   "cell_type": "code",
   "execution_count": 5,
   "id": "2541d29e-0314-4c09-a5e0-22bcac5968fd",
   "metadata": {},
   "outputs": [
    {
     "data": {
      "text/plain": [
       "(0, 255, 0)"
      ]
     },
     "execution_count": 5,
     "metadata": {},
     "output_type": "execute_result"
    }
   ],
   "source": [
    "get_color(\"Mask\")"
   ]
  },
  {
   "cell_type": "markdown",
   "id": "9f67644e-c4ac-4c5a-a5fe-e1ad962dee60",
   "metadata": {},
   "source": [
    "## Predict a image"
   ]
  },
  {
   "cell_type": "code",
   "execution_count": 6,
   "id": "ad5a27ed-320f-4c49-a604-1bdd03a0d700",
   "metadata": {},
   "outputs": [],
   "source": [
    "def face_mask_prediction(img):\n",
    "    image = img.copy()\n",
    "    h, w = image.shape[:2]\n",
    "    # hình ảnh array | scaleFactor | size image | mean value RGB | swapRB\n",
    "    blob = cv2.dnn.blobFromImage(image, 1, (300, 300), (104, 117, 123), swapRB=True)\n",
    "    \n",
    "    # forwading face_detection_model (OpenCV)\n",
    "    face_detection_model.setInput(blob)\n",
    "    detection = face_detection_model.forward() \n",
    "    for i in range(0, detection.shape[2]):\n",
    "        confidence = detection[0, 0, i, 2]\n",
    "        if confidence > 0.5:\n",
    "            box = detection[0, 0, i, 3:7] * np.array([w, h, w, h])\n",
    "            box = box.astype(int)\n",
    "            point1 = (box[0], box[1])\n",
    "            point2 = (box[2], box[3])\n",
    "\n",
    "            # Step 2: Data preprocessing\n",
    "            face = image[box[1]:box[3], box[0]:box[2]]\n",
    "            face_blob = cv2.dnn.blobFromImage(face, 1, (100, 100), (104, 117, 123), swapRB=True)\n",
    "            face_blob_squeeze = np.squeeze(face_blob).T\n",
    "            face_blob_rotate = cv2.rotate(face_blob_squeeze, cv2.ROTATE_90_CLOCKWISE)\n",
    "            face_blob_flip = cv2.flip(face_blob_rotate, 1)\n",
    "            \n",
    "            # Normalization and remove negative value\n",
    "            max_value = face_blob_flip.max()\n",
    "            min_value = face_blob_flip.min()\n",
    "            img_norm = (face_blob_flip - min_value) / (max_value - min_value)\n",
    "            # img_norm = np.maximum(face_blob_flip, 0) / face_blob_flip.max()\n",
    "            \n",
    "            # Step 3: Deep learning (CNN)\n",
    "            img_input = np.expand_dims(img_norm, 0)\n",
    "            result = model.predict(img_input)[0]\n",
    "            confidence_index = result.argmax()\n",
    "            confidence_score = result[confidence_index]\n",
    "            label = labels[confidence_index]\n",
    "            label_text = f'{label}: {(confidence_score*100):.2f}%'\n",
    "\n",
    "            # color\n",
    "            color = get_color(label)\n",
    "            cv2.rectangle(image, point1, point2, color, 4)\n",
    "            cv2.putText(image, label_text, (point1[0], point1[1]-10), cv2.FONT_HERSHEY_DUPLEX, 1, color, 1)\n",
    "            \n",
    "    return image"
   ]
  },
  {
   "cell_type": "code",
   "execution_count": 9,
   "id": "da466599-0fab-4f78-9e0f-47d8d963c1fb",
   "metadata": {},
   "outputs": [],
   "source": [
    "# Thực hiện test function\n",
    "img = cv2.imread(\"./Image_Test/women-wearing-mask.jpg\")\n",
    "image_predict = face_mask_prediction(img)\n",
    "\n",
    "# cv2.imshow(\"Original\", img)\n",
    "cv2.imshow(\"Image predict\", image_predict)\n",
    "cv2.waitKey()\n",
    "cv2.destroyAllWindows()"
   ]
  },
  {
   "cell_type": "markdown",
   "id": "467dd5bc-9652-4f30-a334-93c7103a33c1",
   "metadata": {},
   "source": [
    "## Real time Face Mask Detection"
   ]
  },
  {
   "cell_type": "code",
   "execution_count": 12,
   "id": "425fa9a9-0b40-4a8d-881f-4f2813b92b34",
   "metadata": {},
   "outputs": [],
   "source": [
    "cap = cv2.VideoCapture(0)\n",
    "\n",
    "while True: \n",
    "    ret, frames = cap.read()\n",
    "    if ret == False:\n",
    "        break\n",
    "        \n",
    "    image = face_mask_prediction(frames)\n",
    "    cv2.imshow(\"Face mask prediction\", image)\n",
    "    if cv2.waitKey(1) == ord('q'): \n",
    "        break\n",
    "\n",
    "cap.release()\n",
    "cv2.destroyAllWindows()"
   ]
  },
  {
   "cell_type": "code",
   "execution_count": null,
   "id": "a8f3ed25",
   "metadata": {},
   "outputs": [],
   "source": []
  }
 ],
 "metadata": {
  "kernelspec": {
   "display_name": "Python 3",
   "language": "python",
   "name": "python3"
  },
  "language_info": {
   "codemirror_mode": {
    "name": "ipython",
    "version": 3
   },
   "file_extension": ".py",
   "mimetype": "text/x-python",
   "name": "python",
   "nbconvert_exporter": "python",
   "pygments_lexer": "ipython3",
   "version": "3.8.12"
  }
 },
 "nbformat": 4,
 "nbformat_minor": 5
}
